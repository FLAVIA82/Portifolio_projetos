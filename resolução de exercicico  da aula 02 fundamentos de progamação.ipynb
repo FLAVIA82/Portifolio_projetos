{
 "cells": [
  {
   "cell_type": "code",
   "execution_count": 1,
   "id": "206c1397",
   "metadata": {},
   "outputs": [
    {
     "name": "stdout",
     "output_type": "stream",
     "text": [
      "qual o seu nome?flavia\n",
      "qual a sua idade?23\n",
      "qual o seu peso?12\n"
     ]
    }
   ],
   "source": [
    "nome=input('qual o seu nome?')\n",
    "idade=input('qual a sua idade?')\n",
    "peso=input('qual o seu peso?')"
   ]
  },
  {
   "cell_type": "markdown",
   "id": "abddae60",
   "metadata": {},
   "source": [
    " A prefeitura de Itapeva abriu uma linha de crédito para funcionários estatutários. O valor máximo da prestação não poderá ultrapassar 30% do salário bruto.\n",
    "\n",
    "Faça uma aplicação que permita entrar com o salário bruto, o valor do empréstimo e o número de parcelas. O programa deve informar o valor da parcela e se o empréstimo pode ou não ser concedido.\n",
    "\n",
    "Caso o empréstimo não possa ser concedido, informar o valor máximo do empréstimo."
   ]
  },
  {
   "cell_type": "markdown",
   "id": "724fa4e0",
   "metadata": {},
   "source": [
    "## Análise\n",
    "A prefeitura de Itapeva abriu uma linha de crédito e o valor máximo da prestação não é de 30% do salário bruto.\n",
    "\n",
    "Faça uma aplicação que permita entrar com o salário bruto, o valor do empréstimo e o número de parcelas.\n",
    "\n",
    "O programa deve informar o valor da parcela e se o empréstimo pode ou não ser concedido.\n",
    "\n",
    "Caso o empréstimo não possa ser concedido, informar o valor máximo do empréstimo."
   ]
  },
  {
   "cell_type": "code",
   "execution_count": 11,
   "id": "675b637c",
   "metadata": {
    "scrolled": true
   },
   "outputs": [
    {
     "name": "stdout",
     "output_type": "stream",
     "text": [
      "Informe o salário bruto: 3000\n",
      "Informe o valor pretendido: 820\n",
      "Informe a quantidade de parcelas: 6\n",
      "Valor liberado.\n",
      "O valor da parcela será de R$ 136.67 por 6 meses\n"
     ]
    }
   ],
   "source": [
    "salario = float(input('Informe o salário bruto: '))\n",
    "emprestimo = float(input('Informe o valor pretendido: '))\n",
    "parcelas = int(input('Informe a quantidade de parcelas: '))\n",
    "\n",
    "if(emprestimo > (salario*0.3)):\n",
    "    print(f'Valor não liberado.')\n",
    "    print(f'O valor máximo do empréstimo é de R$ {salario*0.3:.2f}')\n",
    "else:\n",
    "    print(f'Valor liberado.')\n",
    "    print(f'O valor da parcela será de R$ {(emprestimo / parcelas):.2f} por {parcelas} meses')\n",
    "    "
   ]
  },
  {
   "cell_type": "markdown",
   "id": "5ae33209",
   "metadata": {},
   "source": [
    "## eu fiz usando o if, elif e else:"
   ]
  },
  {
   "cell_type": "code",
   "execution_count": 2,
   "id": "2491b0ca",
   "metadata": {},
   "outputs": [
    {
     "name": "stdout",
     "output_type": "stream",
     "text": [
      "Informe o salário bruto: 2650\n",
      "Informe o valor pretendido: 1000\n",
      "Informe a quantidade de parcelas: 5\n",
      "Valor não liberado.\n"
     ]
    }
   ],
   "source": [
    "salario = float(input('Informe o salário bruto: '))\n",
    "emprestimo = float(input('Informe o valor pretendido: '))\n",
    "parcelas = int(input('Informe a quantidade de parcelas: '))\n",
    "\n",
    "if(emprestimo > (salario*0.3)):\n",
    "    print(f'Valor não liberado.')\n",
    "elif(f'emprestimo< salario'):\n",
    "    print(f'O valor máximo do empréstimo é de R$ {salario*0.3:.2f}')\n",
    "else:\n",
    "    print(f'Valor liberado.')\n",
    "    print(f'O valor da parcela será de R$ {(emprestimo / parcelas):.2f} por {parcelas} meses')\n",
    "    "
   ]
  },
  {
   "cell_type": "markdown",
   "id": "224fdb0a",
   "metadata": {},
   "source": [
    "## Codifique uma aplicação que receba como entrada dois números reais. A aplicação deve receber também um terceiro caractere, que deve ser +, -, * ou /. Após receber os dois números e o caractere de operação, a aplicação deverá realizar a operação indicada pelo caractere sobre os valores lidos.\n",
    "\n",
    "A aplicação deve imprimir os valores e o resultado da operação realizada sobre eles, como mostra o exemplo a seguir (usando exatamente uma casa decimal):\n",
    "\n",
    "Informe o primeiro valor real: 4.5\n",
    "Informe o segundo valor real: 5\n",
    "Informe a operação a ser realizada: +\n",
    "4.5 + 5.0 = 9.5\n",
    "\n",
    "A aplicação deve ainda verificar se o segundo número for igual a zero e não realizar a operação divisão, exibindo na tela a seguinte mensagem de erro ao usuário: \"Impossível fazer Divisão por zero\"."
   ]
  },
  {
   "cell_type": "markdown",
   "id": "80a2a3be",
   "metadata": {},
   "source": [
    "## Análise\n",
    "Codifique uma aplicação que receba como entrada dois números reais. A aplicação deve receber também um terceiro caractere, que deve ser +, -, * ou /.\n",
    "\n",
    "Após receber os dois números e o caractere de operação, a aplicação deverá realizar a operação indicada pelo caractere sobre os valores lidos.\n",
    "\n",
    "A aplicação deve imprimir os valores e o resultado da operação realizada sobre eles.\n",
    "\n",
    "A aplicação deve ainda verificar se o segundo número for igual a zero e não realizar a operação divisão, exibindo na tela a seguinte mensagem de erro ao usuário: \"Impossível fazer Divisão por zero\"\n",
    "\n",
    "Implicações / Proposições / Afirmações\n",
    "A aplicação deve receber 3 informações: 2 números reais e um operador (* ou / ou - ou +)\n",
    "A aplicação deve realizar a operação informada utilizando os dois números informados\n",
    "A aplicação deve imprimir o resultado da operação\n",
    "A aplicação deve verificar se o segundo valor é igual a zero.\n",
    "Se for igual a zero e a operação for divisão (/), a apliacação deve mostrar a seguinte mensagem ao usuário \"Impossível fazer Divisão por zero\""
   ]
  },
  {
   "cell_type": "code",
   "execution_count": 1,
   "id": "2d117e14",
   "metadata": {},
   "outputs": [
    {
     "name": "stdout",
     "output_type": "stream",
     "text": [
      "informe o numero real7\n",
      "informe o segundo valor real0\n",
      "informe a operação desejada/\n",
      "impossivel fazer divisão por zero\n"
     ]
    }
   ],
   "source": [
    "n1=float(input('informe o numero real'))\n",
    "n2=float(input('informe o segundo valor real'))\n",
    "n3=(input('informe a operação desejada'))\n",
    "\n",
    "resultado= 0\n",
    "\n",
    "if(n3=='/'and n2==0):\n",
    "    print(\"impossivel fazer divisão por zero\")\n",
    "else: \n",
    "    if(n3=='+'):\n",
    "        resultado=n1+n2\n",
    "    elif(n3=='-'):\n",
    "        resultado=n1-n2\n",
    "    elif(n3=='*'):\n",
    "        resultado=n1*n2\n",
    "    else:\n",
    "        resultado=n1/n2\n",
    "  \n",
    "        print(f'{n1}{n3}{n2}={resultado}')"
   ]
  },
  {
   "cell_type": "code",
   "execution_count": null,
   "id": "67551414",
   "metadata": {},
   "outputs": [],
   "source": []
  }
 ],
 "metadata": {
  "kernelspec": {
   "display_name": "Python 3 (ipykernel)",
   "language": "python",
   "name": "python3"
  },
  "language_info": {
   "codemirror_mode": {
    "name": "ipython",
    "version": 3
   },
   "file_extension": ".py",
   "mimetype": "text/x-python",
   "name": "python",
   "nbconvert_exporter": "python",
   "pygments_lexer": "ipython3",
   "version": "3.9.7"
  }
 },
 "nbformat": 4,
 "nbformat_minor": 5
}
