{
 "cells": [
  {
   "cell_type": "markdown",
   "id": "6f28457d",
   "metadata": {
    "toc": true
   },
   "source": [
    "<h1>sumário<span class=\"tocSkip\"></span></h1>\n",
    "<div class=\"toc\"><ul class=\"toc-item\"><li><span><a href=\"#introdução\" data-toc-modified-id=\"introdução-1\"><span class=\"toc-item-num\">1&nbsp;&nbsp;</span>introdução</a></span></li><li><span><a href=\"#tranformar-o-número-em-boleano(-verdadeiro-ou-falso)\" data-toc-modified-id=\"tranformar-o-número-em-boleano(-verdadeiro-ou-falso)-2\"><span class=\"toc-item-num\">2&nbsp;&nbsp;</span>tranformar o número em boleano( verdadeiro ou falso)</a></span></li><li><span><a href=\"#input\" data-toc-modified-id=\"input-3\"><span class=\"toc-item-num\">3&nbsp;&nbsp;</span>input</a></span></li><li><span><a href=\"#float\" data-toc-modified-id=\"float-4\"><span class=\"toc-item-num\">4&nbsp;&nbsp;</span>float</a></span></li></ul></div>"
   ]
  },
  {
   "cell_type": "markdown",
   "id": "1b78d311",
   "metadata": {
    "heading_collapsed": true
   },
   "source": [
    "##  introdução"
   ]
  },
  {
   "cell_type": "code",
   "execution_count": null,
   "id": "7b0c488d",
   "metadata": {
    "hidden": true
   },
   "outputs": [],
   "source": [
    "n1=int(input('digite um valor'))\n",
    "n2=int(input('digite outo valor'))\n",
    "s=n1+n2\n",
    "print('a soma dos valores',n1,'e',n2,'vale',s)"
   ]
  },
  {
   "cell_type": "code",
   "execution_count": null,
   "id": "eb9c9a50",
   "metadata": {
    "hidden": true,
    "scrolled": true
   },
   "outputs": [],
   "source": [
    "n1=int(input('digite o valor do numero'))\n",
    "n2=int(input('digite outro valor'))\n",
    "s=n1+n2\n",
    "print('a soma de {} e {} vale {}'.format(n1,n2,s))"
   ]
  },
  {
   "cell_type": "markdown",
   "id": "4f28cd88",
   "metadata": {},
   "source": [
    "## tranformar o número em boleano( verdadeiro ou falso)\n",
    "True or False( sempre a primeira letra maiúscula)"
   ]
  },
  {
   "cell_type": "code",
   "execution_count": null,
   "id": "c1b0c371",
   "metadata": {
    "scrolled": true
   },
   "outputs": [],
   "source": [
    "idade = 32\n",
    "idade_convertida = bool(idade)\n",
    "idade_convertida"
   ]
  },
  {
   "cell_type": "markdown",
   "id": "4fde1639",
   "metadata": {},
   "source": [
    "## input\n",
    "input siginifica mensagem ou seja ler a mensagem(input)"
   ]
  },
  {
   "cell_type": "code",
   "execution_count": 3,
   "id": "94ce61b5",
   "metadata": {
    "scrolled": true
   },
   "outputs": [
    {
     "name": "stdout",
     "output_type": "stream",
     "text": [
      "Digite a sua idade: 32\n"
     ]
    }
   ],
   "source": [
    "dado_inserido = input(\"Digite a sua idade: \")\n"
   ]
  },
  {
   "cell_type": "markdown",
   "id": "5bf212b6",
   "metadata": {},
   "source": [
    "## float\n",
    "siginifica números flutuantes( numeros quebrados com vírgula, 3,4)"
   ]
  },
  {
   "cell_type": "code",
   "execution_count": null,
   "id": "f724a8c4",
   "metadata": {},
   "outputs": [],
   "source": [
    "float(input('qual é a sua altura?'))"
   ]
  },
  {
   "cell_type": "code",
   "execution_count": null,
   "id": "da4b24a1",
   "metadata": {
    "scrolled": true
   },
   "outputs": [],
   "source": [
    "n1=float(input('informe o numero real'))\n",
    "n2=float(input('informe o segundo valor real'))\n",
    "n3=(input('informe a operação desejada'))\n",
    "\n",
    "resultado= 0\n",
    "\n",
    "if(n3=='/'and n2==0):\n",
    "    print(\"impossivel fazer divisão por zero\")\n",
    "else: \n",
    "    if(n3=='+'):\n",
    "        resultado=n1+n2\n",
    "    elif(n3=='-'):\n",
    "        resultado=n1-n2\n",
    "    elif(n3=='*'):\n",
    "        resultado=n1*n2\n",
    "    else:\n",
    "        resultado=n1/n2\n",
    "  \n",
    "        print(f'{n1}{n3}{n2}={resultado}')\n"
   ]
  },
  {
   "cell_type": "code",
   "execution_count": null,
   "id": "d682bddf",
   "metadata": {},
   "outputs": [],
   "source": [
    "import pandas as pd\n",
    "import numpy as np\n",
    "import seaborn as srn"
   ]
  },
  {
   "cell_type": "code",
   "execution_count": null,
   "id": "308b8222",
   "metadata": {},
   "outputs": [],
   "source": [
    "data=pd.read_csv('C:/Users/FLAVIA/repor/pythonProject/kc_house_data.csv')"
   ]
  },
  {
   "cell_type": "code",
   "execution_count": null,
   "id": "c8887912",
   "metadata": {},
   "outputs": [],
   "source": [
    "print(data.columns)"
   ]
  },
  {
   "cell_type": "code",
   "execution_count": null,
   "id": "52ff577e",
   "metadata": {},
   "outputs": [],
   "source": [
    "print(data.shape)"
   ]
  },
  {
   "cell_type": "code",
   "execution_count": null,
   "id": "0b9153be",
   "metadata": {},
   "outputs": [],
   "source": [
    "data[['id', 'bedrooms']].sort_values('bedrooms', ascending=False).head()"
   ]
  },
  {
   "cell_type": "code",
   "execution_count": null,
   "id": "a954d7ec",
   "metadata": {},
   "outputs": [],
   "source": [
    "data[['id', 'bathrooms']].sort_values('bathrooms',ascending=False).head()"
   ]
  },
  {
   "cell_type": "code",
   "execution_count": null,
   "id": "0acaafae",
   "metadata": {},
   "outputs": [],
   "source": [
    "##quantos casas para a venda\n",
    "len(data['id'].unique())"
   ]
  },
  {
   "cell_type": "code",
   "execution_count": null,
   "id": "5aac4527",
   "metadata": {},
   "outputs": [],
   "source": [
    "len(data['bathrooms'].unique())"
   ]
  },
  {
   "cell_type": "code",
   "execution_count": null,
   "id": "96abbe62",
   "metadata": {},
   "outputs": [],
   "source": [
    "data[['id','price']].sort_values('price',ascending=False).head()"
   ]
  },
  {
   "cell_type": "code",
   "execution_count": null,
   "id": "5a611f69",
   "metadata": {},
   "outputs": [],
   "source": [
    "data[['bedrooms','bathrooms']].sum()"
   ]
  },
  {
   "cell_type": "markdown",
   "id": "a5221cb0",
   "metadata": {},
   "source": [
    " QUESTÃO 7) QUANTAS CASAS POSSUEM DOIS BANHEIROS?\n",
    "selecionar as colunas 'id' e 'bathooms' depois selecionar os 'id' cuja coluna de 'bathroom' que sejam igual a 2. contar o numeros de valores da coluna 'id'"
   ]
  },
  {
   "cell_type": "code",
   "execution_count": null,
   "id": "4f3a22ac",
   "metadata": {},
   "outputs": [],
   "source": [
    "len(data.loc[data['bathrooms']==2,['id','bathrooms']])"
   ]
  },
  {
   "cell_type": "code",
   "execution_count": null,
   "id": "f43c25bd",
   "metadata": {},
   "outputs": [],
   "source": [
    "data.loc[data['bathrooms']==2,['id','bathrooms']].shape"
   ]
  },
  {
   "cell_type": "code",
   "execution_count": null,
   "id": "96bf4388",
   "metadata": {},
   "outputs": [],
   "source": [
    "Qual o preço médio de casa com dois banheiros?"
   ]
  },
  {
   "cell_type": "code",
   "execution_count": null,
   "id": "4a80bd08",
   "metadata": {},
   "outputs": [],
   "source": [
    "data.loc[data['bathrooms']==2,['price','bathrooms']].mean()"
   ]
  },
  {
   "cell_type": "code",
   "execution_count": null,
   "id": "9521ff35",
   "metadata": {},
   "outputs": [],
   "source": [
    "data.loc[data['bathrooms']==2,['id','bathrooms']].shape"
   ]
  },
  {
   "cell_type": "code",
   "execution_count": null,
   "id": "c30ac996",
   "metadata": {},
   "outputs": [],
   "source": [
    "data.loc[data['bathrooms']==2,['price','bathrooms']].mean()"
   ]
  },
  {
   "cell_type": "code",
   "execution_count": null,
   "id": "11025f69",
   "metadata": {},
   "outputs": [],
   "source": [
    "##preço minimo para casas com 3 quartos\n",
    "data.loc[data['bedrooms']==3,['price','bedrooms']].min()"
   ]
  },
  {
   "cell_type": "code",
   "execution_count": null,
   "id": "a8e78b25",
   "metadata": {},
   "outputs": [],
   "source": [
    " ##Questão 11) Quais casas possuem mais de 300 metros quadrados na sala de estar?\n",
    "    len(data.loc[data['sqft_living']>300,['id',['sqft_living']])"
   ]
  },
  {
   "cell_type": "code",
   "execution_count": null,
   "id": "3fff383d",
   "metadata": {},
   "outputs": [],
   "source": [
    "len(data.loc[data['sqft_living']>300,['sqft_living']])"
   ]
  },
  {
   "cell_type": "code",
   "execution_count": null,
   "id": "0af9fb05",
   "metadata": {},
   "outputs": [],
   "source": [
    "##quantas casas tem 2 andares\n",
    "len(data.loc[data['floors']>2,['floors']])"
   ]
  },
  {
   "cell_type": "code",
   "execution_count": null,
   "id": "1df3e3cc",
   "metadata": {},
   "outputs": [],
   "source": [
    "##quantas casas tem vista para o mar\n",
    "len(data.loc[data['waterfront']==1,['waterfront']])"
   ]
  },
  {
   "cell_type": "code",
   "execution_count": null,
   "id": "f05646cc",
   "metadata": {},
   "outputs": [],
   "source": [
    "##Das casas com vista para o mar quantas tem 3 quartos?"
   ]
  },
  {
   "cell_type": "code",
   "execution_count": null,
   "id": "e1f84f6f",
   "metadata": {},
   "outputs": [],
   "source": [
    "len(data.loc[(data['waterfront']==1) &(data['bedrooms']==3),'id'])"
   ]
  },
  {
   "cell_type": "code",
   "execution_count": 4,
   "id": "9d0a7908",
   "metadata": {},
   "outputs": [
    {
     "name": "stdout",
     "output_type": "stream",
     "text": [
      "Collecting basedosdados\n",
      "  Using cached basedosdados-1.6.1-py3-none-any.whl (44 kB)\n",
      "Requirement already satisfied: pandas==1.2.4 in c:\\users\\flavia\\anaconda3\\envs\\machineflavia\\lib\\site-packages (from basedosdados) (1.2.4)\n",
      "Collecting ckanapi==4.6\n",
      "  Using cached ckanapi-4.6.tar.gz (32 kB)\n",
      "Collecting Jinja2==2.11.2\n",
      "  Using cached Jinja2-2.11.2-py2.py3-none-any.whl (125 kB)\n",
      "Collecting tomlkit==0.7.0\n",
      "  Using cached tomlkit-0.7.0-py2.py3-none-any.whl (32 kB)\n",
      "Collecting ruamel.yaml==0.17.10\n",
      "  Using cached ruamel.yaml-0.17.10-py3-none-any.whl (108 kB)\n",
      "Collecting tqdm==4.50.2\n",
      "  Using cached tqdm-4.50.2-py2.py3-none-any.whl (70 kB)\n",
      "Collecting pyaml==20.4.0\n",
      "  Using cached pyaml-20.4.0-py2.py3-none-any.whl (17 kB)\n",
      "Collecting pandas-gbq==0.13.2\n",
      "  Using cached pandas_gbq-0.13.2-py3-none-any.whl (24 kB)\n",
      "Collecting google-cloud-storage==1.42.3\n",
      "  Using cached google_cloud_storage-1.42.3-py2.py3-none-any.whl (105 kB)\n",
      "Collecting google-cloud-bigquery==2.30.1\n",
      "  Using cached google_cloud_bigquery-2.30.1-py2.py3-none-any.whl (203 kB)\n",
      "Collecting pyarrow==6.0.0\n",
      "  Using cached pyarrow-6.0.0-cp39-cp39-win_amd64.whl (15.5 MB)\n",
      "Collecting google-cloud-bigquery-storage==1.1.0\n",
      "  Using cached google_cloud_bigquery_storage-1.1.0-py2.py3-none-any.whl (135 kB)\n",
      "Collecting click==8.0.3\n",
      "  Using cached click-8.0.3-py3-none-any.whl (97 kB)\n",
      "Requirement already satisfied: setuptools in c:\\users\\flavia\\anaconda3\\envs\\machineflavia\\lib\\site-packages (from ckanapi==4.6->basedosdados) (58.0.4)\n",
      "Collecting docopt\n",
      "  Using cached docopt-0.6.2.tar.gz (25 kB)\n",
      "Requirement already satisfied: requests in c:\\users\\flavia\\anaconda3\\envs\\machineflavia\\lib\\site-packages (from ckanapi==4.6->basedosdados) (2.27.1)\n",
      "Collecting python-slugify>=1.0\n",
      "  Using cached python_slugify-5.0.2-py2.py3-none-any.whl (6.7 kB)\n",
      "Requirement already satisfied: six<2.0,>=1.9 in c:\\users\\flavia\\anaconda3\\envs\\machineflavia\\lib\\site-packages (from ckanapi==4.6->basedosdados) (1.16.0)\n",
      "Requirement already satisfied: colorama in c:\\users\\flavia\\anaconda3\\envs\\machineflavia\\lib\\site-packages (from click==8.0.3->basedosdados) (0.4.4)\n",
      "Requirement already satisfied: python-dateutil<3.0dev,>=2.7.2 in c:\\users\\flavia\\anaconda3\\envs\\machineflavia\\lib\\site-packages (from google-cloud-bigquery==2.30.1->basedosdados) (2.8.2)\n",
      "Collecting google-resumable-media<3.0dev,>=0.6.0\n",
      "  Using cached google_resumable_media-2.1.0-py2.py3-none-any.whl (75 kB)\n",
      "Collecting google-cloud-core<3.0.0dev,>=1.4.1\n",
      "  Using cached google_cloud_core-2.2.2-py2.py3-none-any.whl (29 kB)\n",
      "Collecting grpcio<2.0dev,>=1.38.1\n",
      "  Using cached grpcio-1.43.0-cp39-cp39-win_amd64.whl (3.4 MB)\n",
      "Requirement already satisfied: packaging>=14.3 in c:\\users\\flavia\\anaconda3\\envs\\machineflavia\\lib\\site-packages (from google-cloud-bigquery==2.30.1->basedosdados) (21.3)\n",
      "Collecting proto-plus>=1.10.0\n",
      "  Using cached proto_plus-1.19.9-py3-none-any.whl (45 kB)\n",
      "Collecting protobuf>=3.12.0\n",
      "  Using cached protobuf-3.19.4-cp39-cp39-win_amd64.whl (895 kB)\n",
      "Collecting google-api-core[grpc]<3.0.0dev,>=1.29.0\n",
      "  Downloading google_api_core-2.4.0-py2.py3-none-any.whl (111 kB)\n",
      "  Downloading google_api_core-1.31.5-py2.py3-none-any.whl (93 kB)\n",
      "Collecting google-auth<3.0dev,>=1.25.0\n",
      "  Downloading google_auth-2.6.0-py2.py3-none-any.whl (156 kB)\n",
      "Requirement already satisfied: MarkupSafe>=0.23 in c:\\users\\flavia\\anaconda3\\envs\\machineflavia\\lib\\site-packages (from Jinja2==2.11.2->basedosdados) (2.0.1)\n",
      "Requirement already satisfied: numpy>=1.16.5 in c:\\users\\flavia\\anaconda3\\envs\\machineflavia\\lib\\site-packages (from pandas==1.2.4->basedosdados) (1.16.6)\n",
      "Requirement already satisfied: pytz>=2017.3 in c:\\users\\flavia\\anaconda3\\envs\\machineflavia\\lib\\site-packages (from pandas==1.2.4->basedosdados) (2021.3)\n",
      "Collecting google-auth-oauthlib\n",
      "  Downloading google_auth_oauthlib-0.4.6-py2.py3-none-any.whl (18 kB)\n",
      "Collecting pydata-google-auth\n",
      "  Downloading pydata_google_auth-1.3.0-py2.py3-none-any.whl (14 kB)\n",
      "Requirement already satisfied: PyYAML in c:\\users\\flavia\\anaconda3\\envs\\machineflavia\\lib\\site-packages (from pyaml==20.4.0->basedosdados) (6.0)\n",
      "Collecting ruamel.yaml.clib>=0.1.2\n",
      "  Downloading ruamel.yaml.clib-0.2.6-cp39-cp39-win_amd64.whl (118 kB)\n",
      "Collecting googleapis-common-protos<2.0dev,>=1.52.0\n",
      "  Downloading googleapis_common_protos-1.54.0-py2.py3-none-any.whl (207 kB)\n",
      "Collecting google-auth<3.0dev,>=1.25.0\n",
      "  Downloading google_auth-1.35.0-py2.py3-none-any.whl (152 kB)\n",
      "Collecting cachetools<5.0,>=2.0.0\n",
      "  Downloading cachetools-4.2.4-py3-none-any.whl (10 kB)\n",
      "Collecting pyasn1-modules>=0.2.1\n",
      "  Downloading pyasn1_modules-0.2.8-py2.py3-none-any.whl (155 kB)\n",
      "Collecting rsa<5,>=3.1.4\n",
      "  Downloading rsa-4.8-py3-none-any.whl (39 kB)\n",
      "Collecting google-crc32c<2.0dev,>=1.0\n",
      "  Downloading google_crc32c-1.3.0-cp39-cp39-win_amd64.whl (27 kB)\n",
      "Requirement already satisfied: pyparsing!=3.0.5,>=2.0.2 in c:\\users\\flavia\\anaconda3\\envs\\machineflavia\\lib\\site-packages (from packaging>=14.3->google-cloud-bigquery==2.30.1->basedosdados) (3.0.4)\n",
      "Collecting pyasn1<0.5.0,>=0.4.6\n",
      "  Downloading pyasn1-0.4.8-py2.py3-none-any.whl (77 kB)\n",
      "Collecting text-unidecode>=1.3\n",
      "  Downloading text_unidecode-1.3-py2.py3-none-any.whl (78 kB)\n",
      "Requirement already satisfied: idna<4,>=2.5 in c:\\users\\flavia\\anaconda3\\envs\\machineflavia\\lib\\site-packages (from requests->ckanapi==4.6->basedosdados) (3.3)\n",
      "Requirement already satisfied: charset-normalizer~=2.0.0 in c:\\users\\flavia\\anaconda3\\envs\\machineflavia\\lib\\site-packages (from requests->ckanapi==4.6->basedosdados) (2.0.4)\n",
      "Requirement already satisfied: certifi>=2017.4.17 in c:\\users\\flavia\\anaconda3\\envs\\machineflavia\\lib\\site-packages (from requests->ckanapi==4.6->basedosdados) (2021.10.8)\n",
      "Requirement already satisfied: urllib3<1.27,>=1.21.1 in c:\\users\\flavia\\anaconda3\\envs\\machineflavia\\lib\\site-packages (from requests->ckanapi==4.6->basedosdados) (1.26.7)\n",
      "Collecting requests-oauthlib>=0.7.0\n",
      "  Downloading requests_oauthlib-1.3.1-py2.py3-none-any.whl (23 kB)\n",
      "Collecting oauthlib>=3.0.0\n",
      "  Downloading oauthlib-3.2.0-py3-none-any.whl (151 kB)\n",
      "Building wheels for collected packages: ckanapi, docopt\n",
      "  Building wheel for ckanapi (setup.py): started\n",
      "  Building wheel for ckanapi (setup.py): finished with status 'done'\n",
      "  Created wheel for ckanapi: filename=ckanapi-4.6-py3-none-any.whl size=40703 sha256=a7f839818311c108e9cb338a3d8866c46c45f8bd7bf295fd6494d3169b07c2ca\n",
      "  Stored in directory: c:\\users\\flavia\\appdata\\local\\pip\\cache\\wheels\\93\\0a\\67\\2d0a343e082fb1b1f2809ddc5ada0c528dbda0bd90a0233e98\n",
      "  Building wheel for docopt (setup.py): started\n",
      "  Building wheel for docopt (setup.py): finished with status 'done'\n",
      "  Created wheel for docopt: filename=docopt-0.6.2-py2.py3-none-any.whl size=13723 sha256=429a322edb32fa1bfe4a53a2766b8bf793f21d4dd88bbf7b9b7aaecfff659228\n",
      "  Stored in directory: c:\\users\\flavia\\appdata\\local\\pip\\cache\\wheels\\70\\4a\\46\\1309fc853b8d395e60bafaf1b6df7845bdd82c95fd59dd8d2b\n",
      "Successfully built ckanapi docopt\n",
      "Installing collected packages: pyasn1, rsa, pyasn1-modules, protobuf, cachetools, oauthlib, googleapis-common-protos, google-auth, requests-oauthlib, grpcio, google-crc32c, google-api-core, text-unidecode, proto-plus, google-resumable-media, google-cloud-core, google-auth-oauthlib, ruamel.yaml.clib, python-slugify, pydata-google-auth, google-cloud-bigquery, docopt, tqdm, tomlkit, ruamel.yaml, pyarrow, pyaml, pandas-gbq, Jinja2, google-cloud-storage, google-cloud-bigquery-storage, click, ckanapi, basedosdados\n",
      "  Attempting uninstall: tqdm\n",
      "    Found existing installation: tqdm 4.62.3\n",
      "    Uninstalling tqdm-4.62.3:\n",
      "      Successfully uninstalled tqdm-4.62.3\n",
      "  Attempting uninstall: Jinja2\n",
      "    Found existing installation: Jinja2 3.0.2\n",
      "    Uninstalling Jinja2-3.0.2:\n",
      "      Successfully uninstalled Jinja2-3.0.2\n",
      "Successfully installed Jinja2-2.11.2 basedosdados-1.6.1 cachetools-4.2.4 ckanapi-4.6 click-8.0.3 docopt-0.6.2 google-api-core-1.31.5 google-auth-1.35.0 google-auth-oauthlib-0.4.6 google-cloud-bigquery-2.30.1 google-cloud-bigquery-storage-1.1.0 google-cloud-core-2.2.2 google-cloud-storage-1.42.3 google-crc32c-1.3.0 google-resumable-media-2.1.0 googleapis-common-protos-1.54.0 grpcio-1.43.0 oauthlib-3.2.0 pandas-gbq-0.13.2 proto-plus-1.19.9 protobuf-3.19.4 pyaml-20.4.0 pyarrow-6.0.0 pyasn1-0.4.8 pyasn1-modules-0.2.8 pydata-google-auth-1.3.0 python-slugify-5.0.2 requests-oauthlib-1.3.1 rsa-4.8 ruamel.yaml-0.17.10 ruamel.yaml.clib-0.2.6 text-unidecode-1.3 tomlkit-0.7.0 tqdm-4.50.2\n"
     ]
    }
   ],
   "source": [
    "!pip install basedosdados"
   ]
  },
  {
   "cell_type": "code",
   "execution_count": 4,
   "id": "ff068193",
   "metadata": {},
   "outputs": [],
   "source": [
    "import basedosdados as bd"
   ]
  },
  {
   "cell_type": "code",
   "execution_count": 5,
   "id": "d4dd6bf1",
   "metadata": {
    "scrolled": true
   },
   "outputs": [
    {
     "ename": "BaseDosDadosNoBillingProjectIDException",
     "evalue": "\nWe are not sure which Google Cloud project should be billed.\nFirst, you should make sure that you have a Google Cloud project.\nIf you don't have one, set one up following these steps: \n\t1. Go to this link https://console.cloud.google.com/projectselector2/home/dashboard\n\t2. Agree with Terms of Service if asked\n\t3. Click in Create Project\n\t4. Put a cool name in your project\n\t5. Hit create\n\nCopy the Project ID, (notice that it is not the Project Name)\nNow, you have two options:\n1. Add an argument to your function poiting to the billing project id.\n   Like `bd.read_table('br_ibge_pib', 'municipios', billing_project_id=<YOUR_PROJECT_ID>)`\n2. You can set a project_id in the environment by running the following command in your terminal: `gcloud config set project <YOUR_PROJECT_ID>`.\n   Bear in mind that you need `gcloud` installed.",
     "output_type": "error",
     "traceback": [
      "\u001b[1;31m---------------------------------------------------------------------------\u001b[0m",
      "\u001b[1;31mValueError\u001b[0m                                Traceback (most recent call last)",
      "\u001b[1;32m~\\anaconda3\\envs\\machineflavia\\lib\\site-packages\\basedosdados\\download\\download.py\u001b[0m in \u001b[0;36mread_sql\u001b[1;34m(query, billing_project_id, from_file, reauth, use_bqstorage_api)\u001b[0m\n\u001b[0;32m     58\u001b[0m \u001b[1;33m\u001b[0m\u001b[0m\n\u001b[1;32m---> 59\u001b[1;33m         return pandas_gbq.read_gbq(\n\u001b[0m\u001b[0;32m     60\u001b[0m             \u001b[0mquery\u001b[0m\u001b[1;33m,\u001b[0m\u001b[1;33m\u001b[0m\u001b[1;33m\u001b[0m\u001b[0m\n",
      "\u001b[1;32m~\\anaconda3\\envs\\machineflavia\\lib\\site-packages\\pandas_gbq\\gbq.py\u001b[0m in \u001b[0;36mread_gbq\u001b[1;34m(query, project_id, index_col, col_order, reauth, auth_local_webserver, dialect, location, configuration, credentials, use_bqstorage_api, max_results, verbose, private_key, progress_bar_type)\u001b[0m\n\u001b[0;32m    951\u001b[0m \u001b[1;33m\u001b[0m\u001b[0m\n\u001b[1;32m--> 952\u001b[1;33m     connector = GbqConnector(\n\u001b[0m\u001b[0;32m    953\u001b[0m         \u001b[0mproject_id\u001b[0m\u001b[1;33m,\u001b[0m\u001b[1;33m\u001b[0m\u001b[1;33m\u001b[0m\u001b[0m\n",
      "\u001b[1;32m~\\anaconda3\\envs\\machineflavia\\lib\\site-packages\\pandas_gbq\\gbq.py\u001b[0m in \u001b[0;36m__init__\u001b[1;34m(self, project_id, reauth, private_key, auth_local_webserver, dialect, location, credentials, use_bqstorage_api)\u001b[0m\n\u001b[0;32m    360\u001b[0m         \u001b[1;32mif\u001b[0m \u001b[0mself\u001b[0m\u001b[1;33m.\u001b[0m\u001b[0mproject_id\u001b[0m \u001b[1;32mis\u001b[0m \u001b[1;32mNone\u001b[0m\u001b[1;33m:\u001b[0m\u001b[1;33m\u001b[0m\u001b[1;33m\u001b[0m\u001b[0m\n\u001b[1;32m--> 361\u001b[1;33m             raise ValueError(\n\u001b[0m\u001b[0;32m    362\u001b[0m                 \u001b[1;34m\"Could not determine project ID and one was not supplied.\"\u001b[0m\u001b[1;33m\u001b[0m\u001b[1;33m\u001b[0m\u001b[0m\n",
      "\u001b[1;31mValueError\u001b[0m: Could not determine project ID and one was not supplied.",
      "\nDuring handling of the above exception, another exception occurred:\n",
      "\u001b[1;31mBaseDosDadosNoBillingProjectIDException\u001b[0m   Traceback (most recent call last)",
      "\u001b[1;32m~\\AppData\\Local\\Temp/ipykernel_13816/1213693461.py\u001b[0m in \u001b[0;36m<module>\u001b[1;34m\u001b[0m\n\u001b[1;32m----> 1\u001b[1;33m \u001b[0mbd\u001b[0m\u001b[1;33m.\u001b[0m\u001b[0mread_table\u001b[0m\u001b[1;33m(\u001b[0m\u001b[0mdataset_id\u001b[0m\u001b[1;33m=\u001b[0m\u001b[1;34m\"br_inpe_prodes\"\u001b[0m\u001b[1;33m,\u001b[0m \u001b[0mtable_id\u001b[0m\u001b[1;33m=\u001b[0m\u001b[1;34m\"desmatamento_municipios\"\u001b[0m\u001b[1;33m,\u001b[0m \u001b[0mlimit\u001b[0m\u001b[1;33m=\u001b[0m\u001b[1;36m100\u001b[0m\u001b[1;33m)\u001b[0m\u001b[1;33m\u001b[0m\u001b[1;33m\u001b[0m\u001b[0m\n\u001b[0m",
      "\u001b[1;32m~\\anaconda3\\envs\\machineflavia\\lib\\site-packages\\basedosdados\\download\\download.py\u001b[0m in \u001b[0;36mread_table\u001b[1;34m(dataset_id, table_id, query_project_id, billing_project_id, limit, from_file, reauth, use_bqstorage_api)\u001b[0m\n\u001b[0;32m    134\u001b[0m         \u001b[1;32mraise\u001b[0m \u001b[0mBaseDosDadosException\u001b[0m\u001b[1;33m(\u001b[0m\u001b[1;34m\"Both table_id and dataset_id should be filled.\"\u001b[0m\u001b[1;33m)\u001b[0m\u001b[1;33m\u001b[0m\u001b[1;33m\u001b[0m\u001b[0m\n\u001b[0;32m    135\u001b[0m \u001b[1;33m\u001b[0m\u001b[0m\n\u001b[1;32m--> 136\u001b[1;33m     return read_sql(\n\u001b[0m\u001b[0;32m    137\u001b[0m         \u001b[0mquery\u001b[0m\u001b[1;33m,\u001b[0m\u001b[1;33m\u001b[0m\u001b[1;33m\u001b[0m\u001b[0m\n\u001b[0;32m    138\u001b[0m         \u001b[0mbilling_project_id\u001b[0m\u001b[1;33m=\u001b[0m\u001b[0mbilling_project_id\u001b[0m\u001b[1;33m,\u001b[0m\u001b[1;33m\u001b[0m\u001b[1;33m\u001b[0m\u001b[0m\n",
      "\u001b[1;32m~\\anaconda3\\envs\\machineflavia\\lib\\site-packages\\basedosdados\\download\\download.py\u001b[0m in \u001b[0;36mread_sql\u001b[1;34m(query, billing_project_id, from_file, reauth, use_bqstorage_api)\u001b[0m\n\u001b[0;32m     80\u001b[0m         \u001b[0mno_billing_id\u001b[0m \u001b[1;33m|=\u001b[0m \u001b[1;34m\"reading from stdin while output is captured\"\u001b[0m \u001b[1;32min\u001b[0m \u001b[0mstr\u001b[0m\u001b[1;33m(\u001b[0m\u001b[0me\u001b[0m\u001b[1;33m)\u001b[0m\u001b[1;33m\u001b[0m\u001b[1;33m\u001b[0m\u001b[0m\n\u001b[0;32m     81\u001b[0m         \u001b[1;32mif\u001b[0m \u001b[0mno_billing_id\u001b[0m\u001b[1;33m:\u001b[0m\u001b[1;33m\u001b[0m\u001b[1;33m\u001b[0m\u001b[0m\n\u001b[1;32m---> 82\u001b[1;33m             \u001b[1;32mraise\u001b[0m \u001b[0mBaseDosDadosNoBillingProjectIDException\u001b[0m\u001b[1;33m\u001b[0m\u001b[1;33m\u001b[0m\u001b[0m\n\u001b[0m\u001b[0;32m     83\u001b[0m         \u001b[1;32mraise\u001b[0m\u001b[1;33m\u001b[0m\u001b[1;33m\u001b[0m\u001b[0m\n\u001b[0;32m     84\u001b[0m \u001b[1;33m\u001b[0m\u001b[0m\n",
      "\u001b[1;31mBaseDosDadosNoBillingProjectIDException\u001b[0m: \nWe are not sure which Google Cloud project should be billed.\nFirst, you should make sure that you have a Google Cloud project.\nIf you don't have one, set one up following these steps: \n\t1. Go to this link https://console.cloud.google.com/projectselector2/home/dashboard\n\t2. Agree with Terms of Service if asked\n\t3. Click in Create Project\n\t4. Put a cool name in your project\n\t5. Hit create\n\nCopy the Project ID, (notice that it is not the Project Name)\nNow, you have two options:\n1. Add an argument to your function poiting to the billing project id.\n   Like `bd.read_table('br_ibge_pib', 'municipios', billing_project_id=<YOUR_PROJECT_ID>)`\n2. You can set a project_id in the environment by running the following command in your terminal: `gcloud config set project <YOUR_PROJECT_ID>`.\n   Bear in mind that you need `gcloud` installed."
     ]
    }
   ],
   "source": [
    "bd.read_table(dataset_id=\"br_inpe_prodes\", table_id=\"desmatamento_municipios\", limit=100)"
   ]
  },
  {
   "cell_type": "code",
   "execution_count": 1,
   "id": "f5d11f30",
   "metadata": {},
   "outputs": [
    {
     "name": "stdout",
     "output_type": "stream",
     "text": [
      "Please visit this URL to authorize this application: https://accounts.google.com/o/oauth2/auth?response_type=code&client_id=262006177488-3425ks60hkk80fssi9vpohv88g6q1iqd.apps.googleusercontent.com&redirect_uri=urn%3Aietf%3Awg%3Aoauth%3A2.0%3Aoob&scope=https%3A%2F%2Fwww.googleapis.com%2Fauth%2Fcloud-platform&state=UOHM9QM8Fd6DINWRuof15lhwzf9MEy&prompt=consent&access_type=offline\n",
      "Enter the authorization code: 4/1AX4XfWg4rbJIeBO2V4obkpO4T7gzuBA0dAT3zOgSSpfkW6UBEFMPGbpAzrs\n"
     ]
    },
    {
     "ename": "BaseDosDadosInvalidProjectIDException",
     "evalue": "\nYou are using an invalid `billing_project_id`.\nMake sure you set it to the Project ID available in your Google Cloud console home page at https://console.cloud.google.com/home/dashboard",
     "output_type": "error",
     "traceback": [
      "\u001b[1;31m---------------------------------------------------------------------------\u001b[0m",
      "\u001b[1;31mBadRequest\u001b[0m                                Traceback (most recent call last)",
      "\u001b[1;32m~\\anaconda3\\envs\\machineflavia\\lib\\site-packages\\pandas_gbq\\gbq.py\u001b[0m in \u001b[0;36mrun_query\u001b[1;34m(self, query, max_results, progress_bar_type, **kwargs)\u001b[0m\n\u001b[0;32m    465\u001b[0m             \u001b[0mlogger\u001b[0m\u001b[1;33m.\u001b[0m\u001b[0mdebug\u001b[0m\u001b[1;33m(\u001b[0m\u001b[1;34m\"Requesting query... \"\u001b[0m\u001b[1;33m)\u001b[0m\u001b[1;33m\u001b[0m\u001b[1;33m\u001b[0m\u001b[0m\n\u001b[1;32m--> 466\u001b[1;33m             query_reply = self.client.query(\n\u001b[0m\u001b[0;32m    467\u001b[0m                 \u001b[0mquery\u001b[0m\u001b[1;33m,\u001b[0m\u001b[1;33m\u001b[0m\u001b[1;33m\u001b[0m\u001b[0m\n",
      "\u001b[1;32m~\\anaconda3\\envs\\machineflavia\\lib\\site-packages\\google\\cloud\\bigquery\\client.py\u001b[0m in \u001b[0;36mquery\u001b[1;34m(self, query, job_config, job_id, job_id_prefix, location, project, retry, timeout, job_retry)\u001b[0m\n\u001b[0;32m   3344\u001b[0m \u001b[1;33m\u001b[0m\u001b[0m\n\u001b[1;32m-> 3345\u001b[1;33m         \u001b[0mfuture\u001b[0m \u001b[1;33m=\u001b[0m \u001b[0mdo_query\u001b[0m\u001b[1;33m(\u001b[0m\u001b[1;33m)\u001b[0m\u001b[1;33m\u001b[0m\u001b[1;33m\u001b[0m\u001b[0m\n\u001b[0m\u001b[0;32m   3346\u001b[0m         \u001b[1;31m# The future might be in a failed state now, but if it's\u001b[0m\u001b[1;33m\u001b[0m\u001b[1;33m\u001b[0m\u001b[0m\n",
      "\u001b[1;32m~\\anaconda3\\envs\\machineflavia\\lib\\site-packages\\google\\cloud\\bigquery\\client.py\u001b[0m in \u001b[0;36mdo_query\u001b[1;34m()\u001b[0m\n\u001b[0;32m   3321\u001b[0m             \u001b[1;32mtry\u001b[0m\u001b[1;33m:\u001b[0m\u001b[1;33m\u001b[0m\u001b[1;33m\u001b[0m\u001b[0m\n\u001b[1;32m-> 3322\u001b[1;33m                 \u001b[0mquery_job\u001b[0m\u001b[1;33m.\u001b[0m\u001b[0m_begin\u001b[0m\u001b[1;33m(\u001b[0m\u001b[0mretry\u001b[0m\u001b[1;33m=\u001b[0m\u001b[0mretry\u001b[0m\u001b[1;33m,\u001b[0m \u001b[0mtimeout\u001b[0m\u001b[1;33m=\u001b[0m\u001b[0mtimeout\u001b[0m\u001b[1;33m)\u001b[0m\u001b[1;33m\u001b[0m\u001b[1;33m\u001b[0m\u001b[0m\n\u001b[0m\u001b[0;32m   3323\u001b[0m             \u001b[1;32mexcept\u001b[0m \u001b[0mcore_exceptions\u001b[0m\u001b[1;33m.\u001b[0m\u001b[0mConflict\u001b[0m \u001b[1;32mas\u001b[0m \u001b[0mcreate_exc\u001b[0m\u001b[1;33m:\u001b[0m\u001b[1;33m\u001b[0m\u001b[1;33m\u001b[0m\u001b[0m\n",
      "\u001b[1;32m~\\anaconda3\\envs\\machineflavia\\lib\\site-packages\\google\\cloud\\bigquery\\job\\query.py\u001b[0m in \u001b[0;36m_begin\u001b[1;34m(self, client, retry, timeout)\u001b[0m\n\u001b[0;32m   1251\u001b[0m         \u001b[1;32mtry\u001b[0m\u001b[1;33m:\u001b[0m\u001b[1;33m\u001b[0m\u001b[1;33m\u001b[0m\u001b[0m\n\u001b[1;32m-> 1252\u001b[1;33m             \u001b[0msuper\u001b[0m\u001b[1;33m(\u001b[0m\u001b[0mQueryJob\u001b[0m\u001b[1;33m,\u001b[0m \u001b[0mself\u001b[0m\u001b[1;33m)\u001b[0m\u001b[1;33m.\u001b[0m\u001b[0m_begin\u001b[0m\u001b[1;33m(\u001b[0m\u001b[0mclient\u001b[0m\u001b[1;33m=\u001b[0m\u001b[0mclient\u001b[0m\u001b[1;33m,\u001b[0m \u001b[0mretry\u001b[0m\u001b[1;33m=\u001b[0m\u001b[0mretry\u001b[0m\u001b[1;33m,\u001b[0m \u001b[0mtimeout\u001b[0m\u001b[1;33m=\u001b[0m\u001b[0mtimeout\u001b[0m\u001b[1;33m)\u001b[0m\u001b[1;33m\u001b[0m\u001b[1;33m\u001b[0m\u001b[0m\n\u001b[0m\u001b[0;32m   1253\u001b[0m         \u001b[1;32mexcept\u001b[0m \u001b[0mexceptions\u001b[0m\u001b[1;33m.\u001b[0m\u001b[0mGoogleAPICallError\u001b[0m \u001b[1;32mas\u001b[0m \u001b[0mexc\u001b[0m\u001b[1;33m:\u001b[0m\u001b[1;33m\u001b[0m\u001b[1;33m\u001b[0m\u001b[0m\n",
      "\u001b[1;32m~\\anaconda3\\envs\\machineflavia\\lib\\site-packages\\google\\cloud\\bigquery\\job\\base.py\u001b[0m in \u001b[0;36m_begin\u001b[1;34m(self, client, retry, timeout)\u001b[0m\n\u001b[0;32m    508\u001b[0m         \u001b[0mspan_attributes\u001b[0m \u001b[1;33m=\u001b[0m \u001b[1;33m{\u001b[0m\u001b[1;34m\"path\"\u001b[0m\u001b[1;33m:\u001b[0m \u001b[0mpath\u001b[0m\u001b[1;33m}\u001b[0m\u001b[1;33m\u001b[0m\u001b[1;33m\u001b[0m\u001b[0m\n\u001b[1;32m--> 509\u001b[1;33m         api_response = client._call_api(\n\u001b[0m\u001b[0;32m    510\u001b[0m             \u001b[0mretry\u001b[0m\u001b[1;33m,\u001b[0m\u001b[1;33m\u001b[0m\u001b[1;33m\u001b[0m\u001b[0m\n",
      "\u001b[1;32m~\\anaconda3\\envs\\machineflavia\\lib\\site-packages\\google\\cloud\\bigquery\\client.py\u001b[0m in \u001b[0;36m_call_api\u001b[1;34m(self, retry, span_name, span_attributes, job_ref, headers, **kwargs)\u001b[0m\n\u001b[0;32m    759\u001b[0m             ):\n\u001b[1;32m--> 760\u001b[1;33m                 \u001b[1;32mreturn\u001b[0m \u001b[0mcall\u001b[0m\u001b[1;33m(\u001b[0m\u001b[1;33m)\u001b[0m\u001b[1;33m\u001b[0m\u001b[1;33m\u001b[0m\u001b[0m\n\u001b[0m\u001b[0;32m    761\u001b[0m \u001b[1;33m\u001b[0m\u001b[0m\n",
      "\u001b[1;32m~\\anaconda3\\envs\\machineflavia\\lib\\site-packages\\google\\api_core\\retry.py\u001b[0m in \u001b[0;36mretry_wrapped_func\u001b[1;34m(*args, **kwargs)\u001b[0m\n\u001b[0;32m    285\u001b[0m             )\n\u001b[1;32m--> 286\u001b[1;33m             return retry_target(\n\u001b[0m\u001b[0;32m    287\u001b[0m                 \u001b[0mtarget\u001b[0m\u001b[1;33m,\u001b[0m\u001b[1;33m\u001b[0m\u001b[1;33m\u001b[0m\u001b[0m\n",
      "\u001b[1;32m~\\anaconda3\\envs\\machineflavia\\lib\\site-packages\\google\\api_core\\retry.py\u001b[0m in \u001b[0;36mretry_target\u001b[1;34m(target, predicate, sleep_generator, deadline, on_error)\u001b[0m\n\u001b[0;32m    188\u001b[0m         \u001b[1;32mtry\u001b[0m\u001b[1;33m:\u001b[0m\u001b[1;33m\u001b[0m\u001b[1;33m\u001b[0m\u001b[0m\n\u001b[1;32m--> 189\u001b[1;33m             \u001b[1;32mreturn\u001b[0m \u001b[0mtarget\u001b[0m\u001b[1;33m(\u001b[0m\u001b[1;33m)\u001b[0m\u001b[1;33m\u001b[0m\u001b[1;33m\u001b[0m\u001b[0m\n\u001b[0m\u001b[0;32m    190\u001b[0m \u001b[1;33m\u001b[0m\u001b[0m\n",
      "\u001b[1;32m~\\anaconda3\\envs\\machineflavia\\lib\\site-packages\\google\\cloud\\_http\\__init__.py\u001b[0m in \u001b[0;36mapi_request\u001b[1;34m(self, method, path, query_params, data, content_type, headers, api_base_url, api_version, expect_json, _target_object, timeout)\u001b[0m\n\u001b[0;32m    479\u001b[0m         \u001b[1;32mif\u001b[0m \u001b[1;32mnot\u001b[0m \u001b[1;36m200\u001b[0m \u001b[1;33m<=\u001b[0m \u001b[0mresponse\u001b[0m\u001b[1;33m.\u001b[0m\u001b[0mstatus_code\u001b[0m \u001b[1;33m<\u001b[0m \u001b[1;36m300\u001b[0m\u001b[1;33m:\u001b[0m\u001b[1;33m\u001b[0m\u001b[1;33m\u001b[0m\u001b[0m\n\u001b[1;32m--> 480\u001b[1;33m             \u001b[1;32mraise\u001b[0m \u001b[0mexceptions\u001b[0m\u001b[1;33m.\u001b[0m\u001b[0mfrom_http_response\u001b[0m\u001b[1;33m(\u001b[0m\u001b[0mresponse\u001b[0m\u001b[1;33m)\u001b[0m\u001b[1;33m\u001b[0m\u001b[1;33m\u001b[0m\u001b[0m\n\u001b[0m\u001b[0;32m    481\u001b[0m \u001b[1;33m\u001b[0m\u001b[0m\n",
      "\u001b[1;31mBadRequest\u001b[0m: 400 POST https://bigquery.googleapis.com/bigquery/v2/projects/%3CYOUR_PROJECT_ID%3E/jobs?prettyPrint=false: Invalid project ID '<YOUR_PROJECT_ID>'. Project IDs must contain 6-63 lowercase letters, digits, or dashes. Some project IDs also include domain name separated by a colon. IDs must start with a letter and may not end with a dash.\n\n(job ID: 9d31395a-a7f6-45ee-bd7b-132518990f36)\n\n                   -----Query Job SQL Follows-----                    \n\n    |    .    |    .    |    .    |    .    |    .    |    .    |\n   1:\n   2:        SELECT * \n   3:        FROM `basedosdados.br_inpe_prodes.desmatamento_municipio`\n    |    .    |    .    |    .    |    .    |    .    |    .    |",
      "\nDuring handling of the above exception, another exception occurred:\n",
      "\u001b[1;31mGenericGBQException\u001b[0m                       Traceback (most recent call last)",
      "\u001b[1;32m~\\anaconda3\\envs\\machineflavia\\lib\\site-packages\\basedosdados\\download\\download.py\u001b[0m in \u001b[0;36mread_sql\u001b[1;34m(query, billing_project_id, from_file, reauth, use_bqstorage_api)\u001b[0m\n\u001b[0;32m     58\u001b[0m \u001b[1;33m\u001b[0m\u001b[0m\n\u001b[1;32m---> 59\u001b[1;33m         return pandas_gbq.read_gbq(\n\u001b[0m\u001b[0;32m     60\u001b[0m             \u001b[0mquery\u001b[0m\u001b[1;33m,\u001b[0m\u001b[1;33m\u001b[0m\u001b[1;33m\u001b[0m\u001b[0m\n",
      "\u001b[1;32m~\\anaconda3\\envs\\machineflavia\\lib\\site-packages\\pandas_gbq\\gbq.py\u001b[0m in \u001b[0;36mread_gbq\u001b[1;34m(query, project_id, index_col, col_order, reauth, auth_local_webserver, dialect, location, configuration, credentials, use_bqstorage_api, max_results, verbose, private_key, progress_bar_type)\u001b[0m\n\u001b[0;32m    962\u001b[0m \u001b[1;33m\u001b[0m\u001b[0m\n\u001b[1;32m--> 963\u001b[1;33m     final_df = connector.run_query(\n\u001b[0m\u001b[0;32m    964\u001b[0m         \u001b[0mquery\u001b[0m\u001b[1;33m,\u001b[0m\u001b[1;33m\u001b[0m\u001b[1;33m\u001b[0m\u001b[0m\n",
      "\u001b[1;32m~\\anaconda3\\envs\\machineflavia\\lib\\site-packages\\pandas_gbq\\gbq.py\u001b[0m in \u001b[0;36mrun_query\u001b[1;34m(self, query, max_results, progress_bar_type, **kwargs)\u001b[0m\n\u001b[0;32m    483\u001b[0m         \u001b[1;32mexcept\u001b[0m \u001b[0mself\u001b[0m\u001b[1;33m.\u001b[0m\u001b[0mhttp_error\u001b[0m \u001b[1;32mas\u001b[0m \u001b[0mex\u001b[0m\u001b[1;33m:\u001b[0m\u001b[1;33m\u001b[0m\u001b[1;33m\u001b[0m\u001b[0m\n\u001b[1;32m--> 484\u001b[1;33m             \u001b[0mself\u001b[0m\u001b[1;33m.\u001b[0m\u001b[0mprocess_http_error\u001b[0m\u001b[1;33m(\u001b[0m\u001b[0mex\u001b[0m\u001b[1;33m)\u001b[0m\u001b[1;33m\u001b[0m\u001b[1;33m\u001b[0m\u001b[0m\n\u001b[0m\u001b[0;32m    485\u001b[0m \u001b[1;33m\u001b[0m\u001b[0m\n",
      "\u001b[1;32m~\\anaconda3\\envs\\machineflavia\\lib\\site-packages\\pandas_gbq\\gbq.py\u001b[0m in \u001b[0;36mprocess_http_error\u001b[1;34m(ex)\u001b[0m\n\u001b[0;32m    432\u001b[0m \u001b[1;33m\u001b[0m\u001b[0m\n\u001b[1;32m--> 433\u001b[1;33m         \u001b[1;32mraise\u001b[0m \u001b[0mGenericGBQException\u001b[0m\u001b[1;33m(\u001b[0m\u001b[1;34m\"Reason: {0}\"\u001b[0m\u001b[1;33m.\u001b[0m\u001b[0mformat\u001b[0m\u001b[1;33m(\u001b[0m\u001b[0mex\u001b[0m\u001b[1;33m)\u001b[0m\u001b[1;33m)\u001b[0m\u001b[1;33m\u001b[0m\u001b[1;33m\u001b[0m\u001b[0m\n\u001b[0m\u001b[0;32m    434\u001b[0m \u001b[1;33m\u001b[0m\u001b[0m\n",
      "\u001b[1;31mGenericGBQException\u001b[0m: Reason: 400 POST https://bigquery.googleapis.com/bigquery/v2/projects/%3CYOUR_PROJECT_ID%3E/jobs?prettyPrint=false: Invalid project ID '<YOUR_PROJECT_ID>'. Project IDs must contain 6-63 lowercase letters, digits, or dashes. Some project IDs also include domain name separated by a colon. IDs must start with a letter and may not end with a dash.\n\n(job ID: 9d31395a-a7f6-45ee-bd7b-132518990f36)\n\n                   -----Query Job SQL Follows-----                    \n\n    |    .    |    .    |    .    |    .    |    .    |    .    |\n   1:\n   2:        SELECT * \n   3:        FROM `basedosdados.br_inpe_prodes.desmatamento_municipio`\n    |    .    |    .    |    .    |    .    |    .    |    .    |",
      "\nDuring handling of the above exception, another exception occurred:\n",
      "\u001b[1;31mBaseDosDadosInvalidProjectIDException\u001b[0m     Traceback (most recent call last)",
      "\u001b[1;32m~\\AppData\\Local\\Temp/ipykernel_13816/3341001707.py\u001b[0m in \u001b[0;36m<module>\u001b[1;34m\u001b[0m\n\u001b[0;32m      1\u001b[0m \u001b[1;32mimport\u001b[0m \u001b[0mbasedosdados\u001b[0m \u001b[1;32mas\u001b[0m \u001b[0mbd\u001b[0m\u001b[1;33m\u001b[0m\u001b[1;33m\u001b[0m\u001b[0m\n\u001b[0;32m      2\u001b[0m \u001b[1;31m# Para carregar o dado direto no pandas\u001b[0m\u001b[1;33m\u001b[0m\u001b[1;33m\u001b[0m\u001b[0m\n\u001b[1;32m----> 3\u001b[1;33m df = bd.read_table(dataset_id='br_inpe_prodes', \n\u001b[0m\u001b[0;32m      4\u001b[0m \u001b[0mtable_id\u001b[0m\u001b[1;33m=\u001b[0m\u001b[1;34m'desmatamento_municipio'\u001b[0m\u001b[1;33m,\u001b[0m\u001b[1;33m\u001b[0m\u001b[1;33m\u001b[0m\u001b[0m\n\u001b[0;32m      5\u001b[0m billing_project_id=\"<YOUR_PROJECT_ID>\")\n",
      "\u001b[1;32m~\\anaconda3\\envs\\machineflavia\\lib\\site-packages\\basedosdados\\download\\download.py\u001b[0m in \u001b[0;36mread_table\u001b[1;34m(dataset_id, table_id, query_project_id, billing_project_id, limit, from_file, reauth, use_bqstorage_api)\u001b[0m\n\u001b[0;32m    134\u001b[0m         \u001b[1;32mraise\u001b[0m \u001b[0mBaseDosDadosException\u001b[0m\u001b[1;33m(\u001b[0m\u001b[1;34m\"Both table_id and dataset_id should be filled.\"\u001b[0m\u001b[1;33m)\u001b[0m\u001b[1;33m\u001b[0m\u001b[1;33m\u001b[0m\u001b[0m\n\u001b[0;32m    135\u001b[0m \u001b[1;33m\u001b[0m\u001b[0m\n\u001b[1;32m--> 136\u001b[1;33m     return read_sql(\n\u001b[0m\u001b[0;32m    137\u001b[0m         \u001b[0mquery\u001b[0m\u001b[1;33m,\u001b[0m\u001b[1;33m\u001b[0m\u001b[1;33m\u001b[0m\u001b[0m\n\u001b[0;32m    138\u001b[0m         \u001b[0mbilling_project_id\u001b[0m\u001b[1;33m=\u001b[0m\u001b[0mbilling_project_id\u001b[0m\u001b[1;33m,\u001b[0m\u001b[1;33m\u001b[0m\u001b[1;33m\u001b[0m\u001b[0m\n",
      "\u001b[1;32m~\\anaconda3\\envs\\machineflavia\\lib\\site-packages\\basedosdados\\download\\download.py\u001b[0m in \u001b[0;36mread_sql\u001b[1;34m(query, billing_project_id, from_file, reauth, use_bqstorage_api)\u001b[0m\n\u001b[0;32m     69\u001b[0m \u001b[1;33m\u001b[0m\u001b[0m\n\u001b[0;32m     70\u001b[0m         \u001b[1;32melif\u001b[0m \u001b[0mre\u001b[0m\u001b[1;33m.\u001b[0m\u001b[0mmatch\u001b[0m\u001b[1;33m(\u001b[0m\u001b[1;34m\"Reason: 400 POST .* [Pp]roject[ ]*I[Dd]\"\u001b[0m\u001b[1;33m,\u001b[0m \u001b[0mstr\u001b[0m\u001b[1;33m(\u001b[0m\u001b[0me\u001b[0m\u001b[1;33m)\u001b[0m\u001b[1;33m)\u001b[0m\u001b[1;33m:\u001b[0m\u001b[1;33m\u001b[0m\u001b[1;33m\u001b[0m\u001b[0m\n\u001b[1;32m---> 71\u001b[1;33m             \u001b[1;32mraise\u001b[0m \u001b[0mBaseDosDadosInvalidProjectIDException\u001b[0m\u001b[1;33m\u001b[0m\u001b[1;33m\u001b[0m\u001b[0m\n\u001b[0m\u001b[0;32m     72\u001b[0m \u001b[1;33m\u001b[0m\u001b[0m\n\u001b[0;32m     73\u001b[0m         \u001b[1;32mraise\u001b[0m\u001b[1;33m\u001b[0m\u001b[1;33m\u001b[0m\u001b[0m\n",
      "\u001b[1;31mBaseDosDadosInvalidProjectIDException\u001b[0m: \nYou are using an invalid `billing_project_id`.\nMake sure you set it to the Project ID available in your Google Cloud console home page at https://console.cloud.google.com/home/dashboard"
     ]
    }
   ],
   "source": [
    "import basedosdados as bd\n",
    "# Para carregar o dado direto no pandas\n",
    "df = bd.read_table(dataset_id='br_inpe_prodes', \n",
    "table_id='desmatamento_municipio',\n",
    "billing_project_id=\"<YOUR_PROJECT_ID>\")"
   ]
  },
  {
   "cell_type": "code",
   "execution_count": 2,
   "id": "c12cf0d8",
   "metadata": {},
   "outputs": [
    {
     "ename": "NameError",
     "evalue": "name 'data' is not defined",
     "output_type": "error",
     "traceback": [
      "\u001b[1;31m---------------------------------------------------------------------------\u001b[0m",
      "\u001b[1;31mNameError\u001b[0m                                 Traceback (most recent call last)",
      "\u001b[1;32m~\\AppData\\Local\\Temp/ipykernel_13816/333559123.py\u001b[0m in \u001b[0;36m<module>\u001b[1;34m\u001b[0m\n\u001b[1;32m----> 1\u001b[1;33m \u001b[0mprint\u001b[0m \u001b[1;33m(\u001b[0m\u001b[0mdata\u001b[0m\u001b[1;33m.\u001b[0m\u001b[0mheard\u001b[0m\u001b[1;33m(\u001b[0m\u001b[1;33m)\u001b[0m\u001b[1;33m)\u001b[0m\u001b[1;33m\u001b[0m\u001b[1;33m\u001b[0m\u001b[0m\n\u001b[0m",
      "\u001b[1;31mNameError\u001b[0m: name 'data' is not defined"
     ]
    }
   ],
   "source": [
    "print (data.heard())"
   ]
  },
  {
   "cell_type": "code",
   "execution_count": 20,
   "id": "f732bacf",
   "metadata": {},
   "outputs": [],
   "source": [
    "lista=[0,1,2,3,4,5,6,7,8,9,10,11,12,13,14,15,16,17,18,19,20,21,22,23]"
   ]
  },
  {
   "cell_type": "code",
   "execution_count": 21,
   "id": "23156d45",
   "metadata": {},
   "outputs": [
    {
     "data": {
      "text/plain": [
       "[2, 4, 6, 8, 10, 12, 14, 16, 18, 20, 22]"
      ]
     },
     "execution_count": 21,
     "metadata": {},
     "output_type": "execute_result"
    }
   ],
   "source": [
    "pares=lista[2::2]\n",
    "pares"
   ]
  },
  {
   "cell_type": "code",
   "execution_count": 22,
   "id": "c2fecb77",
   "metadata": {},
   "outputs": [
    {
     "data": {
      "text/plain": [
       "[1, 3, 5, 7, 9, 11, 13, 15, 17, 19, 21, 23]"
      ]
     },
     "execution_count": 22,
     "metadata": {},
     "output_type": "execute_result"
    }
   ],
   "source": [
    "impares=lista[1::2]\n",
    "impares"
   ]
  },
  {
   "cell_type": "code",
   "execution_count": 1,
   "id": "33523c52",
   "metadata": {},
   "outputs": [
    {
     "ename": "SyntaxError",
     "evalue": "invalid syntax (Temp/ipykernel_1956/1654323137.py, line 1)",
     "output_type": "error",
     "traceback": [
      "\u001b[1;36m  File \u001b[1;32m\"C:\\Users\\FLAVIA\\AppData\\Local\\Temp/ipykernel_1956/1654323137.py\"\u001b[1;36m, line \u001b[1;32m1\u001b[0m\n\u001b[1;33m    jupyter nbconvert --to html notebook.ipynb\u001b[0m\n\u001b[1;37m            ^\u001b[0m\n\u001b[1;31mSyntaxError\u001b[0m\u001b[1;31m:\u001b[0m invalid syntax\n"
     ]
    }
   ],
   "source": [
    "jupyter nbconvert --to html notebook.ipynb  "
   ]
  },
  {
   "cell_type": "code",
   "execution_count": null,
   "id": "c34f6a49",
   "metadata": {},
   "outputs": [],
   "source": []
  },
  {
   "cell_type": "code",
   "execution_count": null,
   "id": "b3346a55",
   "metadata": {},
   "outputs": [],
   "source": []
  },
  {
   "cell_type": "code",
   "execution_count": null,
   "id": "7c4d8ad8",
   "metadata": {},
   "outputs": [],
   "source": []
  }
 ],
 "metadata": {
  "kernelspec": {
   "display_name": "Python 3 (ipykernel)",
   "language": "python",
   "name": "python3"
  },
  "language_info": {
   "codemirror_mode": {
    "name": "ipython",
    "version": 3
   },
   "file_extension": ".py",
   "mimetype": "text/x-python",
   "name": "python",
   "nbconvert_exporter": "python",
   "pygments_lexer": "ipython3",
   "version": "3.9.7"
  },
  "latex_envs": {
   "LaTeX_envs_menu_present": true,
   "autoclose": false,
   "autocomplete": true,
   "bibliofile": "biblio.bib",
   "cite_by": "apalike",
   "current_citInitial": 1,
   "eqLabelWithNumbers": true,
   "eqNumInitial": 1,
   "hotkeys": {
    "equation": "Ctrl-E",
    "itemize": "Ctrl-I"
   },
   "labels_anchors": false,
   "latex_user_defs": false,
   "report_style_numbering": false,
   "user_envs_cfg": false
  },
  "toc": {
   "base_numbering": 1,
   "nav_menu": {},
   "number_sections": true,
   "sideBar": true,
   "skip_h1_title": false,
   "title_cell": "sumário",
   "title_sidebar": "conteúdo",
   "toc_cell": true,
   "toc_position": {
    "height": "calc(100% - 180px)",
    "left": "10px",
    "top": "150px",
    "width": "303.837px"
   },
   "toc_section_display": true,
   "toc_window_display": true
  }
 },
 "nbformat": 4,
 "nbformat_minor": 5
}
