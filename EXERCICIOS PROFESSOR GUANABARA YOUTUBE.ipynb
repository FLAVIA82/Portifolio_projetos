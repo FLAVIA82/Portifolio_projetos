{
 "cells": [
  {
   "cell_type": "markdown",
   "id": "2b90d29e",
   "metadata": {},
   "source": [
    "## EXERCÍCIO 28\n",
    "ESCREVA UM PROGRAMA QUE FAÇA O COMPUTADOR 'PENSAR' EM NÚMERO INTEIRO ENTRE 0 E 5 E PEÇA PARA O USUARIO TENTAR DESCOBRIR QUAL FOI O NÚMERO ESCOLHIDO PELO COMPUTADOR.O PROGRAMA DEVERÁ ESCREVER SE PERDEU OU GANHOU."
   ]
  },
  {
   "cell_type": "code",
   "execution_count": 4,
   "id": "f2a799e7",
   "metadata": {},
   "outputs": [
    {
     "name": "stdout",
     "output_type": "stream",
     "text": [
      "entre um numero de 0 á 5: 10\n",
      "Você Perdeu!\n"
     ]
    }
   ],
   "source": [
    "numero=int(input(\"entre um numero de 0 á 5: \" ) )\n",
    "if numero<=5:  \n",
    " print(\"Parabens!!!\")\n",
    "else:\n",
    "  print(\"Você Perdeu!\")\n",
    "\n",
    "  \n"
   ]
  },
  {
   "cell_type": "code",
   "execution_count": 24,
   "id": "a46259d8",
   "metadata": {},
   "outputs": [
    {
     "name": "stdout",
     "output_type": "stream",
     "text": [
      "Escolha um numero entre 0 e 5 e acertar o que o computador irá escolher. 8\n",
      "Você escolheu 8 computador pensou no numero 1\n",
      "Não foi dessa vez \n",
      " O Computador Ganhou!!!\n"
     ]
    }
   ],
   "source": [
    "import random\n",
    "n = int(input(\"Escolha um numero entre 0 e 5 e acertar o que o computador irá escolher. \"))\n",
    "l = [0, 1, 2, 3, 4, 5]\n",
    "c = random.choice(l)\n",
    "print(\"Você escolheu {} computador pensou no numero {}\".format(n, c) )\n",
    "if n==c:\n",
    "    print(\"Parabens Você conseguiu adivinhar!!!\")\n",
    "else:\n",
    "    print(\"Não foi dessa vez \\n O Computador Ganhou!!!\")"
   ]
  },
  {
   "cell_type": "markdown",
   "id": "df64ef9f",
   "metadata": {},
   "source": [
    "## questão 29 \n",
    "Escreva um programa que leia a velocidade do carro.Se ele ultrapassar 80km/h, mostre uma mensagem  dizendo que foi multado. \n",
    "A multa vai custar R$7,00 para cada km acima do limite."
   ]
  },
  {
   "cell_type": "code",
   "execution_count": 24,
   "id": "0c85b85c",
   "metadata": {},
   "outputs": [
    {
     "name": "stdout",
     "output_type": "stream",
     "text": [
      "diga a velocidade da via80\n",
      " diga a sua velocidade do seu carro:90\n",
      "Velocidade acima da via. Você foi multado em -70\n"
     ]
    }
   ],
   "source": [
    "velvia=int(input('diga a velocidade da via'))\n",
    "vel=int (input(' diga a sua velocidade do seu carro:'))\n",
    "valormul=(velvia- vel)*7\n",
    "if vel>velvia:\n",
    "    print('Velocidade acima da via. Você foi multado em {}'.format(valormul))\n",
    "else:\n",
    "    print('você não foi multado!')\n"
   ]
  },
  {
   "cell_type": "markdown",
   "id": "bc50b921",
   "metadata": {},
   "source": [
    "## Questão 30\n",
    " Crie um programa que leia um número inteiro e mostre na tela se impar ou é par"
   ]
  },
  {
   "cell_type": "code",
   "execution_count": 14,
   "id": "a3ed8bd6",
   "metadata": {},
   "outputs": [
    {
     "name": "stdout",
     "output_type": "stream",
     "text": [
      " Escolha um número1\n",
      "o numero1 é impar\n"
     ]
    }
   ],
   "source": [
    "jogo=int(input(' Escolha um número'))\n",
    "if jogo/2==0:\n",
    "    print('o numero{} é par'.format(jogo) )\n",
    "else:\n",
    "    print('o numero{} é impar'.format(jogo))\n",
    "        \n",
    "        "
   ]
  },
  {
   "cell_type": "markdown",
   "id": "0bf5c5d3",
   "metadata": {},
   "source": [
    "## questão 31\n",
    "Deselvolva um programa que pergunte a distância  de uma viagem em km.Calcule o preço da passagem, cobrando R$0,50 por km para viagens de 200km e R$0,45 para viagens mais longas."
   ]
  },
  {
   "cell_type": "code",
   "execution_count": 2,
   "id": "31e77885",
   "metadata": {},
   "outputs": [
    {
     "name": "stdout",
     "output_type": "stream",
     "text": [
      "qual a distância da viagem?120\n",
      "o valor da passagem é 60.0\n"
     ]
    }
   ],
   "source": [
    "##vc viagem curta; vl viagem longa\n",
    "\n",
    "n=float(input('qual a distância da viagem?'))\n",
    "vc=(0.5*n)\n",
    "vl=(0.45*n)\n",
    "if vc <= 200:\n",
    "    print( 'o valor da passagem é {}'.format(vc))\n",
    "else:\n",
    "    print('o valor da passagem é {}'.format(vl))\n"
   ]
  },
  {
   "cell_type": "markdown",
   "id": "d4d300bd",
   "metadata": {},
   "source": [
    "## Questão 32\n",
    "Faça um programa que mostre um ano qualquer e diga se o ano é bissexto"
   ]
  },
  {
   "cell_type": "code",
   "execution_count": 43,
   "id": "a7a4c162",
   "metadata": {},
   "outputs": [
    {
     "name": "stdout",
     "output_type": "stream",
     "text": [
      "Digite um ano: 1988\n",
      "É bissexto!\n"
     ]
    }
   ],
   "source": [
    "ano=int(input('Digite um ano: '))\n",
    "if ano %4==0:\n",
    "    print('É bissexto!')\n",
    "else:\n",
    "    print('Não é bissexto!')"
   ]
  },
  {
   "cell_type": "markdown",
   "id": "8b696465",
   "metadata": {},
   "source": [
    "## questão 33\n",
    "Faça um programa que leia 3 números e mostre qual é o maior e o menor"
   ]
  },
  {
   "cell_type": "code",
   "execution_count": 3,
   "id": "3570986b",
   "metadata": {},
   "outputs": [
    {
     "name": "stdout",
     "output_type": "stream",
     "text": [
      "digite um numero:2\n",
      "digite outro número:10\n",
      "digite o terceiro número:1\n",
      "Maior: 10\n",
      "Menor: 1\n"
     ]
    }
   ],
   "source": [
    "n1 = int(input('digite um numero:'))\n",
    "n2 = int(input('digite outro número:'))\n",
    "n3 = int(input('digite o terceiro número:'))\n",
    "print('Maior:', max(n1,n2,n3))\n",
    "print('Menor:',min(n1,n2,n3))\n",
    "   "
   ]
  },
  {
   "cell_type": "markdown",
   "id": "ecf8a3f3",
   "metadata": {},
   "source": [
    "## Questão 34\n",
    "Escreva um programa que informe o salário de um funcionario e calcule o valor de seu aumento. para salariod e R$1250 aumento de 10%. Para salario inferiores igual ou menor será de  15%."
   ]
  },
  {
   "cell_type": "code",
   "execution_count": 7,
   "id": "ffeb0d9c",
   "metadata": {},
   "outputs": [
    {
     "name": "stdout",
     "output_type": "stream",
     "text": [
      " Qual é o  atual salario? 1249\n",
      " O Seu novo salario com ajuste de 15% R$1436.35\n"
     ]
    }
   ],
   "source": [
    "s = int(input(\" Qual é o  atual salario? \"))\n",
    "aum1 = s*1.10\n",
    "aum2 =  s*1.15\n",
    "if s >= 1250.00 :\n",
    "    print(\" O Seu novo salario com ajuste de 10% R${}\".format(aum1))\n",
    "else:\n",
    "    print(\" O Seu novo salario com ajuste de 15% R${}\".format(aum2))"
   ]
  },
  {
   "cell_type": "markdown",
   "id": "ba40186a",
   "metadata": {},
   "source": [
    "## Desenvolva um programa que leia o comprimento de 3 retas e diga se usuario pode ou não fazer um triangulo.\n"
   ]
  },
  {
   "cell_type": "code",
   "execution_count": 27,
   "id": "028f7307",
   "metadata": {},
   "outputs": [
    {
     "name": "stdout",
     "output_type": "stream",
     "text": [
      "informa o valor do comprimento1\n",
      "informa o valor do segundo comprimento5\n",
      "informa o valor do  terceiro comprimento20\n",
      "Não dá para formar um triangulo\n"
     ]
    }
   ],
   "source": [
    "n1 = int(input('informa o valor do comprimento'))\n",
    "n2 = int (input('informa o valor do segundo comprimento'))\n",
    "n3 = int (input('informa o valor do  terceiro comprimento'))\n",
    "if n1 + n2 > n3 and n2+ n3 > n1 and n1+n3>n2:\n",
    "    print(\"Temos os tres lados que da para formar um triangulo \")\n",
    "else:\n",
    "    print( \"Não dá para formar um triangulo\")  "
   ]
  },
  {
   "cell_type": "code",
   "execution_count": 1,
   "id": "68d2fe3c",
   "metadata": {},
   "outputs": [
    {
     "name": "stdout",
     "output_type": "stream",
     "text": [
      "Requirement already satisfied: notebook-as-pdf in c:\\users\\flavia\\anaconda3\\envs\\machineflavia\\lib\\site-packages (0.5.0)\n",
      "Requirement already satisfied: PyPDF2 in c:\\users\\flavia\\anaconda3\\envs\\machineflavia\\lib\\site-packages (from notebook-as-pdf) (1.26.0)\n",
      "Requirement already satisfied: pyppeteer in c:\\users\\flavia\\anaconda3\\envs\\machineflavia\\lib\\site-packages (from notebook-as-pdf) (1.0.2)\n",
      "Requirement already satisfied: nbconvert in c:\\users\\flavia\\anaconda3\\envs\\machineflavia\\lib\\site-packages (from notebook-as-pdf) (6.1.0)\n",
      "Requirement already satisfied: pygments>=2.4.1 in c:\\users\\flavia\\anaconda3\\envs\\machineflavia\\lib\\site-packages (from nbconvert->notebook-as-pdf) (2.10.0)\n",
      "Requirement already satisfied: jinja2>=2.4 in c:\\users\\flavia\\anaconda3\\envs\\machineflavia\\lib\\site-packages (from nbconvert->notebook-as-pdf) (2.11.2)\n",
      "Requirement already satisfied: mistune<2,>=0.8.1 in c:\\users\\flavia\\anaconda3\\envs\\machineflavia\\lib\\site-packages (from nbconvert->notebook-as-pdf) (0.8.4)\n",
      "Requirement already satisfied: traitlets>=5.0 in c:\\users\\flavia\\anaconda3\\envs\\machineflavia\\lib\\site-packages (from nbconvert->notebook-as-pdf) (5.1.1)\n",
      "Requirement already satisfied: pandocfilters>=1.4.1 in c:\\users\\flavia\\anaconda3\\envs\\machineflavia\\lib\\site-packages (from nbconvert->notebook-as-pdf) (1.4.3)\n",
      "Requirement already satisfied: entrypoints>=0.2.2 in c:\\users\\flavia\\anaconda3\\envs\\machineflavia\\lib\\site-packages (from nbconvert->notebook-as-pdf) (0.3)\n",
      "Requirement already satisfied: bleach in c:\\users\\flavia\\anaconda3\\envs\\machineflavia\\lib\\site-packages (from nbconvert->notebook-as-pdf) (4.1.0)\n",
      "Requirement already satisfied: jupyter-core in c:\\users\\flavia\\anaconda3\\envs\\machineflavia\\lib\\site-packages (from nbconvert->notebook-as-pdf) (4.9.1)\n",
      "Requirement already satisfied: testpath in c:\\users\\flavia\\anaconda3\\envs\\machineflavia\\lib\\site-packages (from nbconvert->notebook-as-pdf) (0.5.0)\n",
      "Requirement already satisfied: defusedxml in c:\\users\\flavia\\anaconda3\\envs\\machineflavia\\lib\\site-packages (from nbconvert->notebook-as-pdf) (0.7.1)\n",
      "Requirement already satisfied: nbformat>=4.4 in c:\\users\\flavia\\anaconda3\\envs\\machineflavia\\lib\\site-packages (from nbconvert->notebook-as-pdf) (5.1.3)\n",
      "Requirement already satisfied: nbclient<0.6.0,>=0.5.0 in c:\\users\\flavia\\anaconda3\\envs\\machineflavia\\lib\\site-packages (from nbconvert->notebook-as-pdf) (0.5.3)\n",
      "Requirement already satisfied: jupyterlab-pygments in c:\\users\\flavia\\anaconda3\\envs\\machineflavia\\lib\\site-packages (from nbconvert->notebook-as-pdf) (0.1.2)\n",
      "Requirement already satisfied: MarkupSafe>=0.23 in c:\\users\\flavia\\anaconda3\\envs\\machineflavia\\lib\\site-packages (from jinja2>=2.4->nbconvert->notebook-as-pdf) (2.0.1)\n",
      "Requirement already satisfied: async-generator in c:\\users\\flavia\\anaconda3\\envs\\machineflavia\\lib\\site-packages (from nbclient<0.6.0,>=0.5.0->nbconvert->notebook-as-pdf) (1.10)\n",
      "Requirement already satisfied: nest-asyncio in c:\\users\\flavia\\anaconda3\\envs\\machineflavia\\lib\\site-packages (from nbclient<0.6.0,>=0.5.0->nbconvert->notebook-as-pdf) (1.5.1)\n",
      "Requirement already satisfied: jupyter-client>=6.1.5 in c:\\users\\flavia\\anaconda3\\envs\\machineflavia\\lib\\site-packages (from nbclient<0.6.0,>=0.5.0->nbconvert->notebook-as-pdf) (7.1.0)\n",
      "Requirement already satisfied: python-dateutil>=2.1 in c:\\users\\flavia\\anaconda3\\envs\\machineflavia\\lib\\site-packages (from jupyter-client>=6.1.5->nbclient<0.6.0,>=0.5.0->nbconvert->notebook-as-pdf) (2.8.2)\n",
      "Requirement already satisfied: tornado>=4.1 in c:\\users\\flavia\\anaconda3\\envs\\machineflavia\\lib\\site-packages (from jupyter-client>=6.1.5->nbclient<0.6.0,>=0.5.0->nbconvert->notebook-as-pdf) (6.1)\n",
      "Requirement already satisfied: pyzmq>=13 in c:\\users\\flavia\\anaconda3\\envs\\machineflavia\\lib\\site-packages (from jupyter-client>=6.1.5->nbclient<0.6.0,>=0.5.0->nbconvert->notebook-as-pdf) (22.3.0)\n",
      "Requirement already satisfied: pywin32>=1.0 in c:\\users\\flavia\\anaconda3\\envs\\machineflavia\\lib\\site-packages (from jupyter-core->nbconvert->notebook-as-pdf) (302)\n",
      "Requirement already satisfied: ipython-genutils in c:\\users\\flavia\\anaconda3\\envs\\machineflavia\\lib\\site-packages (from nbformat>=4.4->nbconvert->notebook-as-pdf) (0.2.0)\n",
      "Requirement already satisfied: jsonschema!=2.5.0,>=2.4 in c:\\users\\flavia\\anaconda3\\envs\\machineflavia\\lib\\site-packages (from nbformat>=4.4->nbconvert->notebook-as-pdf) (3.2.0)\n",
      "Requirement already satisfied: pyrsistent>=0.14.0 in c:\\users\\flavia\\anaconda3\\envs\\machineflavia\\lib\\site-packages (from jsonschema!=2.5.0,>=2.4->nbformat>=4.4->nbconvert->notebook-as-pdf) (0.18.0)\n",
      "Requirement already satisfied: setuptools in c:\\users\\flavia\\anaconda3\\envs\\machineflavia\\lib\\site-packages (from jsonschema!=2.5.0,>=2.4->nbformat>=4.4->nbconvert->notebook-as-pdf) (58.0.4)\n",
      "Requirement already satisfied: attrs>=17.4.0 in c:\\users\\flavia\\anaconda3\\envs\\machineflavia\\lib\\site-packages (from jsonschema!=2.5.0,>=2.4->nbformat>=4.4->nbconvert->notebook-as-pdf) (21.2.0)\n",
      "Requirement already satisfied: six>=1.11.0 in c:\\users\\flavia\\anaconda3\\envs\\machineflavia\\lib\\site-packages (from jsonschema!=2.5.0,>=2.4->nbformat>=4.4->nbconvert->notebook-as-pdf) (1.16.0)\n",
      "Requirement already satisfied: packaging in c:\\users\\flavia\\anaconda3\\envs\\machineflavia\\lib\\site-packages (from bleach->nbconvert->notebook-as-pdf) (21.3)\n",
      "Requirement already satisfied: webencodings in c:\\users\\flavia\\anaconda3\\envs\\machineflavia\\lib\\site-packages (from bleach->nbconvert->notebook-as-pdf) (0.5.1)\n",
      "Requirement already satisfied: pyparsing!=3.0.5,>=2.0.2 in c:\\users\\flavia\\anaconda3\\envs\\machineflavia\\lib\\site-packages (from packaging->bleach->nbconvert->notebook-as-pdf) (3.0.4)\n",
      "Requirement already satisfied: appdirs<2.0.0,>=1.4.3 in c:\\users\\flavia\\anaconda3\\envs\\machineflavia\\lib\\site-packages (from pyppeteer->notebook-as-pdf) (1.4.4)\n",
      "Requirement already satisfied: pyee<9.0.0,>=8.1.0 in c:\\users\\flavia\\anaconda3\\envs\\machineflavia\\lib\\site-packages (from pyppeteer->notebook-as-pdf) (8.2.2)\n",
      "Requirement already satisfied: websockets<11.0,>=10.0 in c:\\users\\flavia\\anaconda3\\envs\\machineflavia\\lib\\site-packages (from pyppeteer->notebook-as-pdf) (10.2)\n",
      "Requirement already satisfied: tqdm<5.0.0,>=4.42.1 in c:\\users\\flavia\\anaconda3\\envs\\machineflavia\\lib\\site-packages (from pyppeteer->notebook-as-pdf) (4.50.2)\n",
      "Requirement already satisfied: certifi>=2021 in c:\\users\\flavia\\anaconda3\\envs\\machineflavia\\lib\\site-packages (from pyppeteer->notebook-as-pdf) (2021.10.8)\n",
      "Requirement already satisfied: urllib3<2.0.0,>=1.25.8 in c:\\users\\flavia\\anaconda3\\envs\\machineflavia\\lib\\site-packages (from pyppeteer->notebook-as-pdf) (1.26.7)\n",
      "Requirement already satisfied: importlib-metadata>=1.4 in c:\\users\\flavia\\anaconda3\\envs\\machineflavia\\lib\\site-packages (from pyppeteer->notebook-as-pdf) (4.8.2)\n",
      "Requirement already satisfied: zipp>=0.5 in c:\\users\\flavia\\anaconda3\\envs\\machineflavia\\lib\\site-packages (from importlib-metadata>=1.4->pyppeteer->notebook-as-pdf) (3.7.0)\n"
     ]
    }
   ],
   "source": [
    "!pip install -U notebook-as-pdf\n"
   ]
  },
  {
   "cell_type": "code",
   "execution_count": null,
   "id": "317e1f24",
   "metadata": {},
   "outputs": [],
   "source": []
  },
  {
   "cell_type": "code",
   "execution_count": null,
   "id": "c2abb0b7",
   "metadata": {},
   "outputs": [],
   "source": []
  }
 ],
 "metadata": {
  "kernelspec": {
   "display_name": "Python 3 (ipykernel)",
   "language": "python",
   "name": "python3"
  },
  "language_info": {
   "codemirror_mode": {
    "name": "ipython",
    "version": 3
   },
   "file_extension": ".py",
   "mimetype": "text/x-python",
   "name": "python",
   "nbconvert_exporter": "python",
   "pygments_lexer": "ipython3",
   "version": "3.9.7"
  },
  "latex_envs": {
   "LaTeX_envs_menu_present": true,
   "autoclose": false,
   "autocomplete": true,
   "bibliofile": "biblio.bib",
   "cite_by": "apalike",
   "current_citInitial": 1,
   "eqLabelWithNumbers": true,
   "eqNumInitial": 1,
   "hotkeys": {
    "equation": "Ctrl-E",
    "itemize": "Ctrl-I"
   },
   "labels_anchors": false,
   "latex_user_defs": false,
   "report_style_numbering": false,
   "user_envs_cfg": false
  },
  "toc": {
   "base_numbering": 1,
   "nav_menu": {},
   "number_sections": true,
   "sideBar": true,
   "skip_h1_title": false,
   "title_cell": "Table of Contents",
   "title_sidebar": "Contents",
   "toc_cell": false,
   "toc_position": {},
   "toc_section_display": true,
   "toc_window_display": false
  }
 },
 "nbformat": 4,
 "nbformat_minor": 5
}
